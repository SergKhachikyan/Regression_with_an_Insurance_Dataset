{
 "cells": [
  {
   "cell_type": "code",
   "execution_count": 403,
   "id": "8ce93ac1-89d7-4313-bea3-4707413639e9",
   "metadata": {},
   "outputs": [],
   "source": [
    "import numpy as np\n",
    "import pandas as pd\n",
    "import matplotlib.pyplot as plt\n",
    "import seaborn as sns"
   ]
  },
  {
   "cell_type": "code",
   "execution_count": 404,
   "id": "84fc80f1-f675-4db5-89ad-57d541d328d6",
   "metadata": {},
   "outputs": [],
   "source": [
    "df_train = pd.read_csv(\"train.csv\")"
   ]
  },
  {
   "cell_type": "code",
   "execution_count": 405,
   "id": "d7b0449a-720c-49b5-9843-d0ef63cc48df",
   "metadata": {},
   "outputs": [],
   "source": [
    "df_test = pd.read_csv(\"test.csv\")"
   ]
  },
  {
   "cell_type": "code",
   "execution_count": 406,
   "id": "83cc8cfa-4ea3-455c-a22a-82baf9c41edb",
   "metadata": {},
   "outputs": [
    {
     "data": {
      "text/html": [
       "<div>\n",
       "<style scoped>\n",
       "    .dataframe tbody tr th:only-of-type {\n",
       "        vertical-align: middle;\n",
       "    }\n",
       "\n",
       "    .dataframe tbody tr th {\n",
       "        vertical-align: top;\n",
       "    }\n",
       "\n",
       "    .dataframe thead th {\n",
       "        text-align: right;\n",
       "    }\n",
       "</style>\n",
       "<table border=\"1\" class=\"dataframe\">\n",
       "  <thead>\n",
       "    <tr style=\"text-align: right;\">\n",
       "      <th></th>\n",
       "      <th>id</th>\n",
       "      <th>Age</th>\n",
       "      <th>Gender</th>\n",
       "      <th>Annual Income</th>\n",
       "      <th>Marital Status</th>\n",
       "      <th>Number of Dependents</th>\n",
       "      <th>Education Level</th>\n",
       "      <th>Occupation</th>\n",
       "      <th>Health Score</th>\n",
       "      <th>Location</th>\n",
       "      <th>...</th>\n",
       "      <th>Previous Claims</th>\n",
       "      <th>Vehicle Age</th>\n",
       "      <th>Credit Score</th>\n",
       "      <th>Insurance Duration</th>\n",
       "      <th>Policy Start Date</th>\n",
       "      <th>Customer Feedback</th>\n",
       "      <th>Smoking Status</th>\n",
       "      <th>Exercise Frequency</th>\n",
       "      <th>Property Type</th>\n",
       "      <th>Premium Amount</th>\n",
       "    </tr>\n",
       "  </thead>\n",
       "  <tbody>\n",
       "    <tr>\n",
       "      <th>0</th>\n",
       "      <td>0</td>\n",
       "      <td>19.0</td>\n",
       "      <td>Female</td>\n",
       "      <td>10049.0</td>\n",
       "      <td>Married</td>\n",
       "      <td>1.0</td>\n",
       "      <td>Bachelor's</td>\n",
       "      <td>Self-Employed</td>\n",
       "      <td>22.598761</td>\n",
       "      <td>Urban</td>\n",
       "      <td>...</td>\n",
       "      <td>2.0</td>\n",
       "      <td>17.0</td>\n",
       "      <td>372.0</td>\n",
       "      <td>5.0</td>\n",
       "      <td>2023-12-23 15:21:39.134960</td>\n",
       "      <td>Poor</td>\n",
       "      <td>No</td>\n",
       "      <td>Weekly</td>\n",
       "      <td>House</td>\n",
       "      <td>2869.0</td>\n",
       "    </tr>\n",
       "    <tr>\n",
       "      <th>1</th>\n",
       "      <td>1</td>\n",
       "      <td>39.0</td>\n",
       "      <td>Female</td>\n",
       "      <td>31678.0</td>\n",
       "      <td>Divorced</td>\n",
       "      <td>3.0</td>\n",
       "      <td>Master's</td>\n",
       "      <td>NaN</td>\n",
       "      <td>15.569731</td>\n",
       "      <td>Rural</td>\n",
       "      <td>...</td>\n",
       "      <td>1.0</td>\n",
       "      <td>12.0</td>\n",
       "      <td>694.0</td>\n",
       "      <td>2.0</td>\n",
       "      <td>2023-06-12 15:21:39.111551</td>\n",
       "      <td>Average</td>\n",
       "      <td>Yes</td>\n",
       "      <td>Monthly</td>\n",
       "      <td>House</td>\n",
       "      <td>1483.0</td>\n",
       "    </tr>\n",
       "    <tr>\n",
       "      <th>2</th>\n",
       "      <td>2</td>\n",
       "      <td>23.0</td>\n",
       "      <td>Male</td>\n",
       "      <td>25602.0</td>\n",
       "      <td>Divorced</td>\n",
       "      <td>3.0</td>\n",
       "      <td>High School</td>\n",
       "      <td>Self-Employed</td>\n",
       "      <td>47.177549</td>\n",
       "      <td>Suburban</td>\n",
       "      <td>...</td>\n",
       "      <td>1.0</td>\n",
       "      <td>14.0</td>\n",
       "      <td>NaN</td>\n",
       "      <td>3.0</td>\n",
       "      <td>2023-09-30 15:21:39.221386</td>\n",
       "      <td>Good</td>\n",
       "      <td>Yes</td>\n",
       "      <td>Weekly</td>\n",
       "      <td>House</td>\n",
       "      <td>567.0</td>\n",
       "    </tr>\n",
       "    <tr>\n",
       "      <th>3</th>\n",
       "      <td>3</td>\n",
       "      <td>21.0</td>\n",
       "      <td>Male</td>\n",
       "      <td>141855.0</td>\n",
       "      <td>Married</td>\n",
       "      <td>2.0</td>\n",
       "      <td>Bachelor's</td>\n",
       "      <td>NaN</td>\n",
       "      <td>10.938144</td>\n",
       "      <td>Rural</td>\n",
       "      <td>...</td>\n",
       "      <td>1.0</td>\n",
       "      <td>0.0</td>\n",
       "      <td>367.0</td>\n",
       "      <td>1.0</td>\n",
       "      <td>2024-06-12 15:21:39.226954</td>\n",
       "      <td>Poor</td>\n",
       "      <td>Yes</td>\n",
       "      <td>Daily</td>\n",
       "      <td>Apartment</td>\n",
       "      <td>765.0</td>\n",
       "    </tr>\n",
       "    <tr>\n",
       "      <th>4</th>\n",
       "      <td>4</td>\n",
       "      <td>21.0</td>\n",
       "      <td>Male</td>\n",
       "      <td>39651.0</td>\n",
       "      <td>Single</td>\n",
       "      <td>1.0</td>\n",
       "      <td>Bachelor's</td>\n",
       "      <td>Self-Employed</td>\n",
       "      <td>20.376094</td>\n",
       "      <td>Rural</td>\n",
       "      <td>...</td>\n",
       "      <td>0.0</td>\n",
       "      <td>8.0</td>\n",
       "      <td>598.0</td>\n",
       "      <td>4.0</td>\n",
       "      <td>2021-12-01 15:21:39.252145</td>\n",
       "      <td>Poor</td>\n",
       "      <td>Yes</td>\n",
       "      <td>Weekly</td>\n",
       "      <td>House</td>\n",
       "      <td>2022.0</td>\n",
       "    </tr>\n",
       "  </tbody>\n",
       "</table>\n",
       "<p>5 rows × 21 columns</p>\n",
       "</div>"
      ],
      "text/plain": [
       "   id   Age  Gender  Annual Income Marital Status  Number of Dependents  \\\n",
       "0   0  19.0  Female        10049.0        Married                   1.0   \n",
       "1   1  39.0  Female        31678.0       Divorced                   3.0   \n",
       "2   2  23.0    Male        25602.0       Divorced                   3.0   \n",
       "3   3  21.0    Male       141855.0        Married                   2.0   \n",
       "4   4  21.0    Male        39651.0         Single                   1.0   \n",
       "\n",
       "  Education Level     Occupation  Health Score  Location  ... Previous Claims  \\\n",
       "0      Bachelor's  Self-Employed     22.598761     Urban  ...             2.0   \n",
       "1        Master's            NaN     15.569731     Rural  ...             1.0   \n",
       "2     High School  Self-Employed     47.177549  Suburban  ...             1.0   \n",
       "3      Bachelor's            NaN     10.938144     Rural  ...             1.0   \n",
       "4      Bachelor's  Self-Employed     20.376094     Rural  ...             0.0   \n",
       "\n",
       "   Vehicle Age  Credit Score  Insurance Duration           Policy Start Date  \\\n",
       "0         17.0         372.0                 5.0  2023-12-23 15:21:39.134960   \n",
       "1         12.0         694.0                 2.0  2023-06-12 15:21:39.111551   \n",
       "2         14.0           NaN                 3.0  2023-09-30 15:21:39.221386   \n",
       "3          0.0         367.0                 1.0  2024-06-12 15:21:39.226954   \n",
       "4          8.0         598.0                 4.0  2021-12-01 15:21:39.252145   \n",
       "\n",
       "  Customer Feedback Smoking Status Exercise Frequency Property Type  \\\n",
       "0              Poor             No             Weekly         House   \n",
       "1           Average            Yes            Monthly         House   \n",
       "2              Good            Yes             Weekly         House   \n",
       "3              Poor            Yes              Daily     Apartment   \n",
       "4              Poor            Yes             Weekly         House   \n",
       "\n",
       "  Premium Amount  \n",
       "0         2869.0  \n",
       "1         1483.0  \n",
       "2          567.0  \n",
       "3          765.0  \n",
       "4         2022.0  \n",
       "\n",
       "[5 rows x 21 columns]"
      ]
     },
     "execution_count": 406,
     "metadata": {},
     "output_type": "execute_result"
    }
   ],
   "source": [
    "df_train.head()"
   ]
  },
  {
   "cell_type": "code",
   "execution_count": 407,
   "id": "aa94b5e5-fcf4-463e-ba05-083e9da90ee9",
   "metadata": {},
   "outputs": [
    {
     "name": "stdout",
     "output_type": "stream",
     "text": [
      "<class 'pandas.core.frame.DataFrame'>\n",
      "RangeIndex: 1200000 entries, 0 to 1199999\n",
      "Data columns (total 21 columns):\n",
      " #   Column                Non-Null Count    Dtype  \n",
      "---  ------                --------------    -----  \n",
      " 0   id                    1200000 non-null  int64  \n",
      " 1   Age                   1181295 non-null  float64\n",
      " 2   Gender                1200000 non-null  object \n",
      " 3   Annual Income         1155051 non-null  float64\n",
      " 4   Marital Status        1181471 non-null  object \n",
      " 5   Number of Dependents  1090328 non-null  float64\n",
      " 6   Education Level       1200000 non-null  object \n",
      " 7   Occupation            841925 non-null   object \n",
      " 8   Health Score          1125924 non-null  float64\n",
      " 9   Location              1200000 non-null  object \n",
      " 10  Policy Type           1200000 non-null  object \n",
      " 11  Previous Claims       835971 non-null   float64\n",
      " 12  Vehicle Age           1199994 non-null  float64\n",
      " 13  Credit Score          1062118 non-null  float64\n",
      " 14  Insurance Duration    1199999 non-null  float64\n",
      " 15  Policy Start Date     1200000 non-null  object \n",
      " 16  Customer Feedback     1122176 non-null  object \n",
      " 17  Smoking Status        1200000 non-null  object \n",
      " 18  Exercise Frequency    1200000 non-null  object \n",
      " 19  Property Type         1200000 non-null  object \n",
      " 20  Premium Amount        1200000 non-null  float64\n",
      "dtypes: float64(9), int64(1), object(11)\n",
      "memory usage: 192.3+ MB\n"
     ]
    }
   ],
   "source": [
    "df_train.info()"
   ]
  },
  {
   "cell_type": "code",
   "execution_count": 408,
   "id": "c525178e-1f41-4868-8956-6f9ab12069de",
   "metadata": {},
   "outputs": [],
   "source": [
    "df_train = df_train.drop(\"id\", axis = 1)\n",
    "df_test = df_test.drop(\"id\", axis = 1)"
   ]
  },
  {
   "cell_type": "code",
   "execution_count": 409,
   "id": "8e0d6860-ea84-42c2-b2a8-434c0a26a467",
   "metadata": {},
   "outputs": [
    {
     "data": {
      "text/plain": [
       "np.int64(0)"
      ]
     },
     "execution_count": 409,
     "metadata": {},
     "output_type": "execute_result"
    }
   ],
   "source": [
    "df_train[\"Gender\"].isna().sum()"
   ]
  },
  {
   "cell_type": "code",
   "execution_count": 410,
   "id": "6272ea8c-b78e-4a58-bd20-3958842a4447",
   "metadata": {},
   "outputs": [],
   "source": [
    "from sklearn.preprocessing import LabelEncoder"
   ]
  },
  {
   "cell_type": "code",
   "execution_count": 411,
   "id": "7b8b7abf-525f-4eda-beae-bd9660241415",
   "metadata": {},
   "outputs": [],
   "source": [
    "label = LabelEncoder()"
   ]
  },
  {
   "cell_type": "code",
   "execution_count": 412,
   "id": "dfb14d43-e5a1-4304-97fd-a7d82178cedf",
   "metadata": {},
   "outputs": [],
   "source": [
    "df_train[\"Gender\"] = label.fit_transform(df_train[\"Gender\"])\n",
    "df_test[\"Gender\"] = label.transform(df_test[\"Gender\"])\n"
   ]
  },
  {
   "cell_type": "code",
   "execution_count": 413,
   "id": "e041a61b-d7a7-4066-8f18-ef6069c3c506",
   "metadata": {},
   "outputs": [
    {
     "name": "stdout",
     "output_type": "stream",
     "text": [
      "<class 'pandas.core.frame.DataFrame'>\n",
      "RangeIndex: 1200000 entries, 0 to 1199999\n",
      "Data columns (total 20 columns):\n",
      " #   Column                Non-Null Count    Dtype  \n",
      "---  ------                --------------    -----  \n",
      " 0   Age                   1181295 non-null  float64\n",
      " 1   Gender                1200000 non-null  int64  \n",
      " 2   Annual Income         1155051 non-null  float64\n",
      " 3   Marital Status        1181471 non-null  object \n",
      " 4   Number of Dependents  1090328 non-null  float64\n",
      " 5   Education Level       1200000 non-null  object \n",
      " 6   Occupation            841925 non-null   object \n",
      " 7   Health Score          1125924 non-null  float64\n",
      " 8   Location              1200000 non-null  object \n",
      " 9   Policy Type           1200000 non-null  object \n",
      " 10  Previous Claims       835971 non-null   float64\n",
      " 11  Vehicle Age           1199994 non-null  float64\n",
      " 12  Credit Score          1062118 non-null  float64\n",
      " 13  Insurance Duration    1199999 non-null  float64\n",
      " 14  Policy Start Date     1200000 non-null  object \n",
      " 15  Customer Feedback     1122176 non-null  object \n",
      " 16  Smoking Status        1200000 non-null  object \n",
      " 17  Exercise Frequency    1200000 non-null  object \n",
      " 18  Property Type         1200000 non-null  object \n",
      " 19  Premium Amount        1200000 non-null  float64\n",
      "dtypes: float64(9), int64(1), object(10)\n",
      "memory usage: 183.1+ MB\n"
     ]
    }
   ],
   "source": [
    "df_train.info()"
   ]
  },
  {
   "cell_type": "code",
   "execution_count": 414,
   "id": "c9f66b14-3804-4e66-9039-897c7471dde2",
   "metadata": {},
   "outputs": [
    {
     "data": {
      "text/plain": [
       "Age                      18705\n",
       "Gender                       0\n",
       "Annual Income            44949\n",
       "Marital Status           18529\n",
       "Number of Dependents    109672\n",
       "Education Level              0\n",
       "Occupation              358075\n",
       "Health Score             74076\n",
       "Location                     0\n",
       "Policy Type                  0\n",
       "Previous Claims         364029\n",
       "Vehicle Age                  6\n",
       "Credit Score            137882\n",
       "Insurance Duration           1\n",
       "Policy Start Date            0\n",
       "Customer Feedback        77824\n",
       "Smoking Status               0\n",
       "Exercise Frequency           0\n",
       "Property Type                0\n",
       "Premium Amount               0\n",
       "dtype: int64"
      ]
     },
     "execution_count": 414,
     "metadata": {},
     "output_type": "execute_result"
    }
   ],
   "source": [
    "df_train.isna().sum()"
   ]
  },
  {
   "cell_type": "code",
   "execution_count": 415,
   "id": "2112bf00-d662-4f00-bed9-c7fec1ef46b3",
   "metadata": {},
   "outputs": [],
   "source": [
    "df_train[\"Age\"] = df_train[\"Age\"].fillna(df_train[\"Age\"].median())"
   ]
  },
  {
   "cell_type": "code",
   "execution_count": 416,
   "id": "9ef240b5-c4c9-4cc2-b6a0-e4f3bcc1672b",
   "metadata": {},
   "outputs": [],
   "source": [
    "df_test[\"Age\"] = df_test[\"Age\"].fillna(df_test[\"Age\"].median())"
   ]
  },
  {
   "cell_type": "code",
   "execution_count": 417,
   "id": "446d565d-8abf-4187-a391-6b8d5624a38b",
   "metadata": {},
   "outputs": [
    {
     "name": "stdout",
     "output_type": "stream",
     "text": [
      "<class 'pandas.core.frame.DataFrame'>\n",
      "RangeIndex: 1200000 entries, 0 to 1199999\n",
      "Data columns (total 20 columns):\n",
      " #   Column                Non-Null Count    Dtype  \n",
      "---  ------                --------------    -----  \n",
      " 0   Age                   1200000 non-null  float64\n",
      " 1   Gender                1200000 non-null  int64  \n",
      " 2   Annual Income         1155051 non-null  float64\n",
      " 3   Marital Status        1181471 non-null  object \n",
      " 4   Number of Dependents  1090328 non-null  float64\n",
      " 5   Education Level       1200000 non-null  object \n",
      " 6   Occupation            841925 non-null   object \n",
      " 7   Health Score          1125924 non-null  float64\n",
      " 8   Location              1200000 non-null  object \n",
      " 9   Policy Type           1200000 non-null  object \n",
      " 10  Previous Claims       835971 non-null   float64\n",
      " 11  Vehicle Age           1199994 non-null  float64\n",
      " 12  Credit Score          1062118 non-null  float64\n",
      " 13  Insurance Duration    1199999 non-null  float64\n",
      " 14  Policy Start Date     1200000 non-null  object \n",
      " 15  Customer Feedback     1122176 non-null  object \n",
      " 16  Smoking Status        1200000 non-null  object \n",
      " 17  Exercise Frequency    1200000 non-null  object \n",
      " 18  Property Type         1200000 non-null  object \n",
      " 19  Premium Amount        1200000 non-null  float64\n",
      "dtypes: float64(9), int64(1), object(10)\n",
      "memory usage: 183.1+ MB\n"
     ]
    }
   ],
   "source": [
    "df_train.info()"
   ]
  },
  {
   "cell_type": "code",
   "execution_count": 418,
   "id": "a0a244c3-197e-490d-a57e-ac7a4e4748d7",
   "metadata": {},
   "outputs": [
    {
     "data": {
      "text/plain": [
       "Age                          0\n",
       "Gender                       0\n",
       "Annual Income            44949\n",
       "Marital Status           18529\n",
       "Number of Dependents    109672\n",
       "Education Level              0\n",
       "Occupation              358075\n",
       "Health Score             74076\n",
       "Location                     0\n",
       "Policy Type                  0\n",
       "Previous Claims         364029\n",
       "Vehicle Age                  6\n",
       "Credit Score            137882\n",
       "Insurance Duration           1\n",
       "Policy Start Date            0\n",
       "Customer Feedback        77824\n",
       "Smoking Status               0\n",
       "Exercise Frequency           0\n",
       "Property Type                0\n",
       "Premium Amount               0\n",
       "dtype: int64"
      ]
     },
     "execution_count": 418,
     "metadata": {},
     "output_type": "execute_result"
    }
   ],
   "source": [
    "df_train.isna().sum()"
   ]
  },
  {
   "cell_type": "code",
   "execution_count": 419,
   "id": "2009898b-2b8d-44ce-a79c-a71c63dae55c",
   "metadata": {},
   "outputs": [
    {
     "data": {
      "text/plain": [
       "0           10049.0\n",
       "1           31678.0\n",
       "2           25602.0\n",
       "3          141855.0\n",
       "4           39651.0\n",
       "             ...   \n",
       "1199995     27316.0\n",
       "1199996     35786.0\n",
       "1199997     51884.0\n",
       "1199998         NaN\n",
       "1199999         NaN\n",
       "Name: Annual Income, Length: 1200000, dtype: float64"
      ]
     },
     "execution_count": 419,
     "metadata": {},
     "output_type": "execute_result"
    }
   ],
   "source": [
    "df_train[\"Annual Income\"]"
   ]
  },
  {
   "cell_type": "code",
   "execution_count": 420,
   "id": "f06fc3a3-be54-4b33-9485-c6a3952a7590",
   "metadata": {},
   "outputs": [],
   "source": [
    "df_train[\"Annual Income\"] = df_train[\"Annual Income\"].fillna(df_train[\"Annual Income\"].median())"
   ]
  },
  {
   "cell_type": "code",
   "execution_count": 421,
   "id": "1ea54c7c-cf27-4d4d-82f3-49cbf011b0aa",
   "metadata": {},
   "outputs": [],
   "source": [
    "df_test[\"Annual Income\"] = df_test[\"Annual Income\"].fillna(df_test[\"Annual Income\"].median())"
   ]
  },
  {
   "cell_type": "code",
   "execution_count": 422,
   "id": "1a0d8aa0-a8a3-4496-a3f5-d2583f8ec1d3",
   "metadata": {},
   "outputs": [
    {
     "name": "stdout",
     "output_type": "stream",
     "text": [
      "<class 'pandas.core.frame.DataFrame'>\n",
      "RangeIndex: 1200000 entries, 0 to 1199999\n",
      "Data columns (total 20 columns):\n",
      " #   Column                Non-Null Count    Dtype  \n",
      "---  ------                --------------    -----  \n",
      " 0   Age                   1200000 non-null  float64\n",
      " 1   Gender                1200000 non-null  int64  \n",
      " 2   Annual Income         1200000 non-null  float64\n",
      " 3   Marital Status        1181471 non-null  object \n",
      " 4   Number of Dependents  1090328 non-null  float64\n",
      " 5   Education Level       1200000 non-null  object \n",
      " 6   Occupation            841925 non-null   object \n",
      " 7   Health Score          1125924 non-null  float64\n",
      " 8   Location              1200000 non-null  object \n",
      " 9   Policy Type           1200000 non-null  object \n",
      " 10  Previous Claims       835971 non-null   float64\n",
      " 11  Vehicle Age           1199994 non-null  float64\n",
      " 12  Credit Score          1062118 non-null  float64\n",
      " 13  Insurance Duration    1199999 non-null  float64\n",
      " 14  Policy Start Date     1200000 non-null  object \n",
      " 15  Customer Feedback     1122176 non-null  object \n",
      " 16  Smoking Status        1200000 non-null  object \n",
      " 17  Exercise Frequency    1200000 non-null  object \n",
      " 18  Property Type         1200000 non-null  object \n",
      " 19  Premium Amount        1200000 non-null  float64\n",
      "dtypes: float64(9), int64(1), object(10)\n",
      "memory usage: 183.1+ MB\n"
     ]
    }
   ],
   "source": [
    "df_train.info()"
   ]
  },
  {
   "cell_type": "code",
   "execution_count": 423,
   "id": "db3da466-071d-4bd3-923b-43c4e4cd1788",
   "metadata": {},
   "outputs": [
    {
     "data": {
      "text/plain": [
       "Age                          0\n",
       "Gender                       0\n",
       "Annual Income                0\n",
       "Marital Status           18529\n",
       "Number of Dependents    109672\n",
       "Education Level              0\n",
       "Occupation              358075\n",
       "Health Score             74076\n",
       "Location                     0\n",
       "Policy Type                  0\n",
       "Previous Claims         364029\n",
       "Vehicle Age                  6\n",
       "Credit Score            137882\n",
       "Insurance Duration           1\n",
       "Policy Start Date            0\n",
       "Customer Feedback        77824\n",
       "Smoking Status               0\n",
       "Exercise Frequency           0\n",
       "Property Type                0\n",
       "Premium Amount               0\n",
       "dtype: int64"
      ]
     },
     "execution_count": 423,
     "metadata": {},
     "output_type": "execute_result"
    }
   ],
   "source": [
    "df_train.isna().sum()"
   ]
  },
  {
   "cell_type": "code",
   "execution_count": 424,
   "id": "0a17b577-47d9-481c-ba7d-783a14510d5f",
   "metadata": {},
   "outputs": [],
   "source": [
    "status_counts = {}\n",
    "\n",
    "for status in df_train['Marital Status']:\n",
    "    if pd.isna(status):\n",
    "        status = 'Unknown'\n",
    "    \n",
    "    if status not in status_counts:\n",
    "        status_counts[status] = 1\n",
    "    else:\n",
    "        status_counts[status] += 1\n",
    "\n",
    "most_frequent_status = max(status_counts, key=status_counts.get)\n",
    "\n",
    "df_train['Marital Status'] = df_train['Marital Status'].apply(lambda x: most_frequent_status if pd.isna(x) else x)"
   ]
  },
  {
   "cell_type": "code",
   "execution_count": 425,
   "id": "1b15a01d-1e55-4511-a6cb-cac46cdf702f",
   "metadata": {},
   "outputs": [],
   "source": [
    "status_counts_test = {}\n",
    "\n",
    "for status in df_test['Marital Status']:\n",
    "    if pd.isna(status):\n",
    "        status = 'Unknown'\n",
    "    \n",
    "    if status not in status_counts_test:\n",
    "        status_counts_test[status] = 1\n",
    "    else:\n",
    "        status_counts_test[status] += 1\n",
    "\n",
    "most_frequent_status_test = max(status_counts_test, key=status_counts_test.get)\n",
    "\n",
    "df_test['Marital Status'] = df_test['Marital Status'].apply(lambda x: most_frequent_status_test if pd.isna(x) else x)"
   ]
  },
  {
   "cell_type": "code",
   "execution_count": 426,
   "id": "38cc6926-4686-4502-85d1-ac50fd775a36",
   "metadata": {},
   "outputs": [
    {
     "data": {
      "text/plain": [
       "np.int64(0)"
      ]
     },
     "execution_count": 426,
     "metadata": {},
     "output_type": "execute_result"
    }
   ],
   "source": [
    "df_train[\"Marital Status\"].isna().sum()"
   ]
  },
  {
   "cell_type": "code",
   "execution_count": 427,
   "id": "fcdc7491-485d-40cc-bf64-1921064ab90d",
   "metadata": {},
   "outputs": [
    {
     "data": {
      "text/plain": [
       "np.int64(0)"
      ]
     },
     "execution_count": 427,
     "metadata": {},
     "output_type": "execute_result"
    }
   ],
   "source": [
    "df_test[\"Marital Status\"].isna().sum()"
   ]
  },
  {
   "cell_type": "code",
   "execution_count": 428,
   "id": "189563fc-4795-41e8-a522-a9499e44498e",
   "metadata": {},
   "outputs": [
    {
     "name": "stdout",
     "output_type": "stream",
     "text": [
      "<class 'pandas.core.frame.DataFrame'>\n",
      "RangeIndex: 1200000 entries, 0 to 1199999\n",
      "Data columns (total 20 columns):\n",
      " #   Column                Non-Null Count    Dtype  \n",
      "---  ------                --------------    -----  \n",
      " 0   Age                   1200000 non-null  float64\n",
      " 1   Gender                1200000 non-null  int64  \n",
      " 2   Annual Income         1200000 non-null  float64\n",
      " 3   Marital Status        1200000 non-null  object \n",
      " 4   Number of Dependents  1090328 non-null  float64\n",
      " 5   Education Level       1200000 non-null  object \n",
      " 6   Occupation            841925 non-null   object \n",
      " 7   Health Score          1125924 non-null  float64\n",
      " 8   Location              1200000 non-null  object \n",
      " 9   Policy Type           1200000 non-null  object \n",
      " 10  Previous Claims       835971 non-null   float64\n",
      " 11  Vehicle Age           1199994 non-null  float64\n",
      " 12  Credit Score          1062118 non-null  float64\n",
      " 13  Insurance Duration    1199999 non-null  float64\n",
      " 14  Policy Start Date     1200000 non-null  object \n",
      " 15  Customer Feedback     1122176 non-null  object \n",
      " 16  Smoking Status        1200000 non-null  object \n",
      " 17  Exercise Frequency    1200000 non-null  object \n",
      " 18  Property Type         1200000 non-null  object \n",
      " 19  Premium Amount        1200000 non-null  float64\n",
      "dtypes: float64(9), int64(1), object(10)\n",
      "memory usage: 183.1+ MB\n"
     ]
    }
   ],
   "source": [
    "df_train.info()"
   ]
  },
  {
   "cell_type": "code",
   "execution_count": 429,
   "id": "361a366c-b2bb-458b-8a42-f11b8dd1adef",
   "metadata": {},
   "outputs": [],
   "source": [
    "df_train[\"Marital Status\"] = label.fit_transform(df_train[\"Marital Status\"])\n",
    "df_test[\"Marital Status\"] = label.transform(df_test[\"Marital Status\"])"
   ]
  },
  {
   "cell_type": "code",
   "execution_count": 430,
   "id": "8434451f-cd25-4720-a622-6c1b3f0eaf95",
   "metadata": {},
   "outputs": [
    {
     "name": "stdout",
     "output_type": "stream",
     "text": [
      "<class 'pandas.core.frame.DataFrame'>\n",
      "RangeIndex: 1200000 entries, 0 to 1199999\n",
      "Data columns (total 20 columns):\n",
      " #   Column                Non-Null Count    Dtype  \n",
      "---  ------                --------------    -----  \n",
      " 0   Age                   1200000 non-null  float64\n",
      " 1   Gender                1200000 non-null  int64  \n",
      " 2   Annual Income         1200000 non-null  float64\n",
      " 3   Marital Status        1200000 non-null  int64  \n",
      " 4   Number of Dependents  1090328 non-null  float64\n",
      " 5   Education Level       1200000 non-null  object \n",
      " 6   Occupation            841925 non-null   object \n",
      " 7   Health Score          1125924 non-null  float64\n",
      " 8   Location              1200000 non-null  object \n",
      " 9   Policy Type           1200000 non-null  object \n",
      " 10  Previous Claims       835971 non-null   float64\n",
      " 11  Vehicle Age           1199994 non-null  float64\n",
      " 12  Credit Score          1062118 non-null  float64\n",
      " 13  Insurance Duration    1199999 non-null  float64\n",
      " 14  Policy Start Date     1200000 non-null  object \n",
      " 15  Customer Feedback     1122176 non-null  object \n",
      " 16  Smoking Status        1200000 non-null  object \n",
      " 17  Exercise Frequency    1200000 non-null  object \n",
      " 18  Property Type         1200000 non-null  object \n",
      " 19  Premium Amount        1200000 non-null  float64\n",
      "dtypes: float64(9), int64(2), object(9)\n",
      "memory usage: 183.1+ MB\n"
     ]
    }
   ],
   "source": [
    "df_train.info()"
   ]
  },
  {
   "cell_type": "code",
   "execution_count": 431,
   "id": "bc6da9bd-b3a9-4df3-bdc3-b98b6d866711",
   "metadata": {},
   "outputs": [
    {
     "data": {
      "text/plain": [
       "Age                          0\n",
       "Gender                       0\n",
       "Annual Income                0\n",
       "Marital Status               0\n",
       "Number of Dependents    109672\n",
       "Education Level              0\n",
       "Occupation              358075\n",
       "Health Score             74076\n",
       "Location                     0\n",
       "Policy Type                  0\n",
       "Previous Claims         364029\n",
       "Vehicle Age                  6\n",
       "Credit Score            137882\n",
       "Insurance Duration           1\n",
       "Policy Start Date            0\n",
       "Customer Feedback        77824\n",
       "Smoking Status               0\n",
       "Exercise Frequency           0\n",
       "Property Type                0\n",
       "Premium Amount               0\n",
       "dtype: int64"
      ]
     },
     "execution_count": 431,
     "metadata": {},
     "output_type": "execute_result"
    }
   ],
   "source": [
    "df_train.isna().sum()"
   ]
  },
  {
   "cell_type": "code",
   "execution_count": 432,
   "id": "162011bc-588c-43be-8587-1cda750e6899",
   "metadata": {},
   "outputs": [
    {
     "data": {
      "text/plain": [
       "np.int64(109672)"
      ]
     },
     "execution_count": 432,
     "metadata": {},
     "output_type": "execute_result"
    }
   ],
   "source": [
    "df_train[\"Number of Dependents\"].isna().sum()"
   ]
  },
  {
   "cell_type": "code",
   "execution_count": 433,
   "id": "5987302c-5dbf-4f24-abb2-fa6922c3f2a7",
   "metadata": {},
   "outputs": [],
   "source": [
    "df_train[\"Number of Dependents\"] = df_train[\"Number of Dependents\"].fillna(df_train[\"Number of Dependents\"].median())"
   ]
  },
  {
   "cell_type": "code",
   "execution_count": 434,
   "id": "639e5345-32f6-4908-9558-144de918e525",
   "metadata": {},
   "outputs": [],
   "source": [
    "df_test[\"Number of Dependents\"] = df_test[\"Number of Dependents\"].fillna(df_test[\"Number of Dependents\"].median())"
   ]
  },
  {
   "cell_type": "code",
   "execution_count": 435,
   "id": "114f8946-e625-4644-a987-19372010484c",
   "metadata": {},
   "outputs": [
    {
     "name": "stdout",
     "output_type": "stream",
     "text": [
      "<class 'pandas.core.frame.DataFrame'>\n",
      "RangeIndex: 1200000 entries, 0 to 1199999\n",
      "Data columns (total 20 columns):\n",
      " #   Column                Non-Null Count    Dtype  \n",
      "---  ------                --------------    -----  \n",
      " 0   Age                   1200000 non-null  float64\n",
      " 1   Gender                1200000 non-null  int64  \n",
      " 2   Annual Income         1200000 non-null  float64\n",
      " 3   Marital Status        1200000 non-null  int64  \n",
      " 4   Number of Dependents  1200000 non-null  float64\n",
      " 5   Education Level       1200000 non-null  object \n",
      " 6   Occupation            841925 non-null   object \n",
      " 7   Health Score          1125924 non-null  float64\n",
      " 8   Location              1200000 non-null  object \n",
      " 9   Policy Type           1200000 non-null  object \n",
      " 10  Previous Claims       835971 non-null   float64\n",
      " 11  Vehicle Age           1199994 non-null  float64\n",
      " 12  Credit Score          1062118 non-null  float64\n",
      " 13  Insurance Duration    1199999 non-null  float64\n",
      " 14  Policy Start Date     1200000 non-null  object \n",
      " 15  Customer Feedback     1122176 non-null  object \n",
      " 16  Smoking Status        1200000 non-null  object \n",
      " 17  Exercise Frequency    1200000 non-null  object \n",
      " 18  Property Type         1200000 non-null  object \n",
      " 19  Premium Amount        1200000 non-null  float64\n",
      "dtypes: float64(9), int64(2), object(9)\n",
      "memory usage: 183.1+ MB\n"
     ]
    }
   ],
   "source": [
    "df_train.info()"
   ]
  },
  {
   "cell_type": "code",
   "execution_count": 436,
   "id": "56c793ac-7669-4472-be6e-409777076dc9",
   "metadata": {},
   "outputs": [
    {
     "data": {
      "text/plain": [
       "np.int64(0)"
      ]
     },
     "execution_count": 436,
     "metadata": {},
     "output_type": "execute_result"
    }
   ],
   "source": [
    "df_train[\"Education Level\"].isna().sum()"
   ]
  },
  {
   "cell_type": "code",
   "execution_count": 437,
   "id": "d5e23062-1b99-425a-a60e-56835d93237a",
   "metadata": {},
   "outputs": [],
   "source": [
    "df_train[\"Education Level\"] = label.fit_transform(df_train[\"Education Level\"])\n",
    "df_test[\"Education Level\"] = label.transform(df_test[\"Education Level\"])"
   ]
  },
  {
   "cell_type": "code",
   "execution_count": 438,
   "id": "c3a3bb1e-0aa7-4213-b9ef-ac22671618a8",
   "metadata": {},
   "outputs": [
    {
     "data": {
      "text/plain": [
       "np.int64(358075)"
      ]
     },
     "execution_count": 438,
     "metadata": {},
     "output_type": "execute_result"
    }
   ],
   "source": [
    "df_train[\"Occupation\"].isna().sum()"
   ]
  },
  {
   "cell_type": "code",
   "execution_count": 439,
   "id": "2c1a6cb3-6abe-4778-8de3-c8b3e24ba413",
   "metadata": {},
   "outputs": [
    {
     "data": {
      "text/plain": [
       "0          Self-Employed\n",
       "1                    NaN\n",
       "2          Self-Employed\n",
       "3                    NaN\n",
       "4          Self-Employed\n",
       "               ...      \n",
       "1199995       Unemployed\n",
       "1199996    Self-Employed\n",
       "1199997              NaN\n",
       "1199998              NaN\n",
       "1199999              NaN\n",
       "Name: Occupation, Length: 1200000, dtype: object"
      ]
     },
     "execution_count": 439,
     "metadata": {},
     "output_type": "execute_result"
    }
   ],
   "source": [
    "df_train[\"Occupation\"]"
   ]
  },
  {
   "cell_type": "code",
   "execution_count": 440,
   "id": "d93d8e0a-a55f-4212-84b4-a38039e899dd",
   "metadata": {},
   "outputs": [],
   "source": [
    "status_occupation = {}\n",
    "\n",
    "for status in df_train['Occupation']:\n",
    "    if pd.isna(status):\n",
    "        status = 'Unknown'\n",
    "    \n",
    "    if status not in status_occupation:\n",
    "        status_occupation[status] = 1\n",
    "    else:\n",
    "        status_occupation[status] += 1\n",
    "\n",
    "most_frequent_status = max(status_occupation, key=status_occupation.get)\n",
    "\n",
    "df_train['Occupation'] = df_train['Occupation'].apply(lambda x: most_frequent_status if pd.isna(x) else x)"
   ]
  },
  {
   "cell_type": "code",
   "execution_count": 441,
   "id": "277b128d-6f92-466b-a8a2-07f95ee99a6e",
   "metadata": {},
   "outputs": [],
   "source": [
    "status_occupation_test = {}\n",
    "\n",
    "for status in df_train['Occupation']:\n",
    "    if pd.isna(status):\n",
    "        status = 'Unknown'\n",
    "    \n",
    "    if status not in status_occupation_test:\n",
    "        status_occupation_test[status] = 1\n",
    "    else:\n",
    "        status_occupation_test[status] += 1\n",
    "\n",
    "most_frequent_status = max(status_occupation_test, key=status_occupation_test.get)\n",
    "\n",
    "df_test['Occupation'] = df_test['Occupation'].apply(lambda x: most_frequent_status if pd.isna(x) else x)"
   ]
  },
  {
   "cell_type": "code",
   "execution_count": 442,
   "id": "ce78b648-6746-4f4f-a992-2e1b8d2a0625",
   "metadata": {},
   "outputs": [
    {
     "name": "stdout",
     "output_type": "stream",
     "text": [
      "<class 'pandas.core.frame.DataFrame'>\n",
      "RangeIndex: 1200000 entries, 0 to 1199999\n",
      "Data columns (total 20 columns):\n",
      " #   Column                Non-Null Count    Dtype  \n",
      "---  ------                --------------    -----  \n",
      " 0   Age                   1200000 non-null  float64\n",
      " 1   Gender                1200000 non-null  int64  \n",
      " 2   Annual Income         1200000 non-null  float64\n",
      " 3   Marital Status        1200000 non-null  int64  \n",
      " 4   Number of Dependents  1200000 non-null  float64\n",
      " 5   Education Level       1200000 non-null  int64  \n",
      " 6   Occupation            1200000 non-null  object \n",
      " 7   Health Score          1125924 non-null  float64\n",
      " 8   Location              1200000 non-null  object \n",
      " 9   Policy Type           1200000 non-null  object \n",
      " 10  Previous Claims       835971 non-null   float64\n",
      " 11  Vehicle Age           1199994 non-null  float64\n",
      " 12  Credit Score          1062118 non-null  float64\n",
      " 13  Insurance Duration    1199999 non-null  float64\n",
      " 14  Policy Start Date     1200000 non-null  object \n",
      " 15  Customer Feedback     1122176 non-null  object \n",
      " 16  Smoking Status        1200000 non-null  object \n",
      " 17  Exercise Frequency    1200000 non-null  object \n",
      " 18  Property Type         1200000 non-null  object \n",
      " 19  Premium Amount        1200000 non-null  float64\n",
      "dtypes: float64(9), int64(3), object(8)\n",
      "memory usage: 183.1+ MB\n"
     ]
    }
   ],
   "source": [
    "df_train.info()"
   ]
  },
  {
   "cell_type": "code",
   "execution_count": 443,
   "id": "e7cff97d-3fe7-49d2-9cbb-f0da0aa18a18",
   "metadata": {},
   "outputs": [],
   "source": [
    "df_train[\"Occupation\"] = label.fit_transform(df_train[\"Occupation\"])\n",
    "df_test[\"Occupation\"] = label.transform(df_test[\"Occupation\"])"
   ]
  },
  {
   "cell_type": "code",
   "execution_count": 444,
   "id": "ac051eef-c5e7-49a4-aacd-5edcffa3e97f",
   "metadata": {},
   "outputs": [
    {
     "name": "stdout",
     "output_type": "stream",
     "text": [
      "<class 'pandas.core.frame.DataFrame'>\n",
      "RangeIndex: 1200000 entries, 0 to 1199999\n",
      "Data columns (total 20 columns):\n",
      " #   Column                Non-Null Count    Dtype  \n",
      "---  ------                --------------    -----  \n",
      " 0   Age                   1200000 non-null  float64\n",
      " 1   Gender                1200000 non-null  int64  \n",
      " 2   Annual Income         1200000 non-null  float64\n",
      " 3   Marital Status        1200000 non-null  int64  \n",
      " 4   Number of Dependents  1200000 non-null  float64\n",
      " 5   Education Level       1200000 non-null  int64  \n",
      " 6   Occupation            1200000 non-null  int64  \n",
      " 7   Health Score          1125924 non-null  float64\n",
      " 8   Location              1200000 non-null  object \n",
      " 9   Policy Type           1200000 non-null  object \n",
      " 10  Previous Claims       835971 non-null   float64\n",
      " 11  Vehicle Age           1199994 non-null  float64\n",
      " 12  Credit Score          1062118 non-null  float64\n",
      " 13  Insurance Duration    1199999 non-null  float64\n",
      " 14  Policy Start Date     1200000 non-null  object \n",
      " 15  Customer Feedback     1122176 non-null  object \n",
      " 16  Smoking Status        1200000 non-null  object \n",
      " 17  Exercise Frequency    1200000 non-null  object \n",
      " 18  Property Type         1200000 non-null  object \n",
      " 19  Premium Amount        1200000 non-null  float64\n",
      "dtypes: float64(9), int64(4), object(7)\n",
      "memory usage: 183.1+ MB\n"
     ]
    }
   ],
   "source": [
    "df_train.info()"
   ]
  },
  {
   "cell_type": "code",
   "execution_count": 445,
   "id": "08260ea7-dfed-416e-b676-45b7a732be5a",
   "metadata": {},
   "outputs": [
    {
     "data": {
      "text/plain": [
       "np.int64(0)"
      ]
     },
     "execution_count": 445,
     "metadata": {},
     "output_type": "execute_result"
    }
   ],
   "source": [
    "df_train[\"Location\"].isna().sum()"
   ]
  },
  {
   "cell_type": "code",
   "execution_count": 446,
   "id": "e8d9f22c-d47a-448a-aa33-13d38edf23e5",
   "metadata": {},
   "outputs": [],
   "source": [
    "df_train[\"Location\"] = label.fit_transform(df_train[\"Location\"])\n",
    "df_test[\"Location\"] = label.fit_transform(df_test[\"Location\"])"
   ]
  },
  {
   "cell_type": "code",
   "execution_count": 447,
   "id": "eaef3f7a-737c-4645-84e2-b7905aa8abc2",
   "metadata": {},
   "outputs": [
    {
     "name": "stdout",
     "output_type": "stream",
     "text": [
      "<class 'pandas.core.frame.DataFrame'>\n",
      "RangeIndex: 1200000 entries, 0 to 1199999\n",
      "Data columns (total 20 columns):\n",
      " #   Column                Non-Null Count    Dtype  \n",
      "---  ------                --------------    -----  \n",
      " 0   Age                   1200000 non-null  float64\n",
      " 1   Gender                1200000 non-null  int64  \n",
      " 2   Annual Income         1200000 non-null  float64\n",
      " 3   Marital Status        1200000 non-null  int64  \n",
      " 4   Number of Dependents  1200000 non-null  float64\n",
      " 5   Education Level       1200000 non-null  int64  \n",
      " 6   Occupation            1200000 non-null  int64  \n",
      " 7   Health Score          1125924 non-null  float64\n",
      " 8   Location              1200000 non-null  int64  \n",
      " 9   Policy Type           1200000 non-null  object \n",
      " 10  Previous Claims       835971 non-null   float64\n",
      " 11  Vehicle Age           1199994 non-null  float64\n",
      " 12  Credit Score          1062118 non-null  float64\n",
      " 13  Insurance Duration    1199999 non-null  float64\n",
      " 14  Policy Start Date     1200000 non-null  object \n",
      " 15  Customer Feedback     1122176 non-null  object \n",
      " 16  Smoking Status        1200000 non-null  object \n",
      " 17  Exercise Frequency    1200000 non-null  object \n",
      " 18  Property Type         1200000 non-null  object \n",
      " 19  Premium Amount        1200000 non-null  float64\n",
      "dtypes: float64(9), int64(5), object(6)\n",
      "memory usage: 183.1+ MB\n"
     ]
    }
   ],
   "source": [
    "df_train.info()"
   ]
  },
  {
   "cell_type": "code",
   "execution_count": 448,
   "id": "8c1d943e-0d65-4a0b-8569-fa136221668d",
   "metadata": {},
   "outputs": [
    {
     "data": {
      "text/plain": [
       "np.int64(0)"
      ]
     },
     "execution_count": 448,
     "metadata": {},
     "output_type": "execute_result"
    }
   ],
   "source": [
    "df_train[\"Policy Type\"].isna().sum()"
   ]
  },
  {
   "cell_type": "code",
   "execution_count": 449,
   "id": "dbc6302e-6b8a-4e39-b3a2-bcfe23f6fdb9",
   "metadata": {},
   "outputs": [],
   "source": [
    "df_train[\"Policy Type\"] = label.fit_transform(df_train[\"Policy Type\"])\n",
    "df_test[\"Policy Type\"] = label.fit_transform(df_test[\"Policy Type\"])"
   ]
  },
  {
   "cell_type": "code",
   "execution_count": 450,
   "id": "a57ff037-18c1-406a-8837-b354221b130f",
   "metadata": {},
   "outputs": [
    {
     "name": "stdout",
     "output_type": "stream",
     "text": [
      "<class 'pandas.core.frame.DataFrame'>\n",
      "RangeIndex: 1200000 entries, 0 to 1199999\n",
      "Data columns (total 20 columns):\n",
      " #   Column                Non-Null Count    Dtype  \n",
      "---  ------                --------------    -----  \n",
      " 0   Age                   1200000 non-null  float64\n",
      " 1   Gender                1200000 non-null  int64  \n",
      " 2   Annual Income         1200000 non-null  float64\n",
      " 3   Marital Status        1200000 non-null  int64  \n",
      " 4   Number of Dependents  1200000 non-null  float64\n",
      " 5   Education Level       1200000 non-null  int64  \n",
      " 6   Occupation            1200000 non-null  int64  \n",
      " 7   Health Score          1125924 non-null  float64\n",
      " 8   Location              1200000 non-null  int64  \n",
      " 9   Policy Type           1200000 non-null  int64  \n",
      " 10  Previous Claims       835971 non-null   float64\n",
      " 11  Vehicle Age           1199994 non-null  float64\n",
      " 12  Credit Score          1062118 non-null  float64\n",
      " 13  Insurance Duration    1199999 non-null  float64\n",
      " 14  Policy Start Date     1200000 non-null  object \n",
      " 15  Customer Feedback     1122176 non-null  object \n",
      " 16  Smoking Status        1200000 non-null  object \n",
      " 17  Exercise Frequency    1200000 non-null  object \n",
      " 18  Property Type         1200000 non-null  object \n",
      " 19  Premium Amount        1200000 non-null  float64\n",
      "dtypes: float64(9), int64(6), object(5)\n",
      "memory usage: 183.1+ MB\n"
     ]
    }
   ],
   "source": [
    "df_train.info()"
   ]
  },
  {
   "cell_type": "code",
   "execution_count": 451,
   "id": "6880f8fc-b0f8-49fe-a4f1-3e558831ed87",
   "metadata": {},
   "outputs": [
    {
     "data": {
      "text/plain": [
       "Age                          0\n",
       "Gender                       0\n",
       "Annual Income                0\n",
       "Marital Status               0\n",
       "Number of Dependents         0\n",
       "Education Level              0\n",
       "Occupation                   0\n",
       "Health Score             74076\n",
       "Location                     0\n",
       "Policy Type                  0\n",
       "Previous Claims         364029\n",
       "Vehicle Age                  6\n",
       "Credit Score            137882\n",
       "Insurance Duration           1\n",
       "Policy Start Date            0\n",
       "Customer Feedback        77824\n",
       "Smoking Status               0\n",
       "Exercise Frequency           0\n",
       "Property Type                0\n",
       "Premium Amount               0\n",
       "dtype: int64"
      ]
     },
     "execution_count": 451,
     "metadata": {},
     "output_type": "execute_result"
    }
   ],
   "source": [
    "df_train.isna().sum()"
   ]
  },
  {
   "cell_type": "code",
   "execution_count": 452,
   "id": "dbbb5026-fd18-4a5a-8749-8d69c48fb278",
   "metadata": {},
   "outputs": [],
   "source": [
    "df_train[\"Health Score\"] = df_train[\"Health Score\"].fillna(df_train[\"Health Score\"].median())\n",
    "df_test[\"Health Score\"] = df_test[\"Health Score\"].fillna(df_test[\"Health Score\"].median())"
   ]
  },
  {
   "cell_type": "code",
   "execution_count": 453,
   "id": "28541b5f-afa6-4451-b45d-8d157e42483a",
   "metadata": {},
   "outputs": [
    {
     "data": {
      "text/plain": [
       "Age                          0\n",
       "Gender                       0\n",
       "Annual Income                0\n",
       "Marital Status               0\n",
       "Number of Dependents         0\n",
       "Education Level              0\n",
       "Occupation                   0\n",
       "Health Score                 0\n",
       "Location                     0\n",
       "Policy Type                  0\n",
       "Previous Claims         364029\n",
       "Vehicle Age                  6\n",
       "Credit Score            137882\n",
       "Insurance Duration           1\n",
       "Policy Start Date            0\n",
       "Customer Feedback        77824\n",
       "Smoking Status               0\n",
       "Exercise Frequency           0\n",
       "Property Type                0\n",
       "Premium Amount               0\n",
       "dtype: int64"
      ]
     },
     "execution_count": 453,
     "metadata": {},
     "output_type": "execute_result"
    }
   ],
   "source": [
    "df_train.isna().sum()"
   ]
  },
  {
   "cell_type": "code",
   "execution_count": 454,
   "id": "699dffdc-4e62-4f05-b107-b1c5e9d1211b",
   "metadata": {},
   "outputs": [
    {
     "name": "stdout",
     "output_type": "stream",
     "text": [
      "<class 'pandas.core.frame.DataFrame'>\n",
      "RangeIndex: 1200000 entries, 0 to 1199999\n",
      "Data columns (total 20 columns):\n",
      " #   Column                Non-Null Count    Dtype  \n",
      "---  ------                --------------    -----  \n",
      " 0   Age                   1200000 non-null  float64\n",
      " 1   Gender                1200000 non-null  int64  \n",
      " 2   Annual Income         1200000 non-null  float64\n",
      " 3   Marital Status        1200000 non-null  int64  \n",
      " 4   Number of Dependents  1200000 non-null  float64\n",
      " 5   Education Level       1200000 non-null  int64  \n",
      " 6   Occupation            1200000 non-null  int64  \n",
      " 7   Health Score          1200000 non-null  float64\n",
      " 8   Location              1200000 non-null  int64  \n",
      " 9   Policy Type           1200000 non-null  int64  \n",
      " 10  Previous Claims       835971 non-null   float64\n",
      " 11  Vehicle Age           1199994 non-null  float64\n",
      " 12  Credit Score          1062118 non-null  float64\n",
      " 13  Insurance Duration    1199999 non-null  float64\n",
      " 14  Policy Start Date     1200000 non-null  object \n",
      " 15  Customer Feedback     1122176 non-null  object \n",
      " 16  Smoking Status        1200000 non-null  object \n",
      " 17  Exercise Frequency    1200000 non-null  object \n",
      " 18  Property Type         1200000 non-null  object \n",
      " 19  Premium Amount        1200000 non-null  float64\n",
      "dtypes: float64(9), int64(6), object(5)\n",
      "memory usage: 183.1+ MB\n"
     ]
    }
   ],
   "source": [
    "df_train.info()"
   ]
  },
  {
   "cell_type": "code",
   "execution_count": 455,
   "id": "a9b96a44-be48-469a-b4df-5b7e89a5c9ba",
   "metadata": {},
   "outputs": [],
   "source": [
    "df_train[\"Previous Claims\"] = df_train[\"Previous Claims\"].fillna(df_train[\"Previous Claims\"].median())\n",
    "df_test[\"Previous Claims\"] = df_test[\"Previous Claims\"].fillna(df_test[\"Previous Claims\"].median())"
   ]
  },
  {
   "cell_type": "code",
   "execution_count": 456,
   "id": "d41848ec-3c98-433b-8764-6089abe3e281",
   "metadata": {},
   "outputs": [
    {
     "data": {
      "text/plain": [
       "Age                          0\n",
       "Gender                       0\n",
       "Annual Income                0\n",
       "Marital Status               0\n",
       "Number of Dependents         0\n",
       "Education Level              0\n",
       "Occupation                   0\n",
       "Health Score                 0\n",
       "Location                     0\n",
       "Policy Type                  0\n",
       "Previous Claims              0\n",
       "Vehicle Age                  6\n",
       "Credit Score            137882\n",
       "Insurance Duration           1\n",
       "Policy Start Date            0\n",
       "Customer Feedback        77824\n",
       "Smoking Status               0\n",
       "Exercise Frequency           0\n",
       "Property Type                0\n",
       "Premium Amount               0\n",
       "dtype: int64"
      ]
     },
     "execution_count": 456,
     "metadata": {},
     "output_type": "execute_result"
    }
   ],
   "source": [
    "df_train.isna().sum()"
   ]
  },
  {
   "cell_type": "code",
   "execution_count": 457,
   "id": "92afff91-61f8-459d-8fd5-205ec13ebc96",
   "metadata": {},
   "outputs": [],
   "source": [
    "df_train[\"Credit Score\"] = df_train[\"Credit Score\"].fillna(df_train[\"Credit Score\"].median())\n",
    "df_test[\"Credit Score\"] = df_test[\"Credit Score\"].fillna(df_test[\"Credit Score\"].median())"
   ]
  },
  {
   "cell_type": "code",
   "execution_count": 458,
   "id": "75fb43c5-3515-41a0-ba8f-22ca9833a6a9",
   "metadata": {},
   "outputs": [],
   "source": [
    "df_train[\"Insurance Duration\"] = df_train[\"Insurance Duration\"].fillna(df_train[\"Insurance Duration\"].median())\n",
    "df_test[\"Insurance Duration\"] = df_test[\"Insurance Duration\"].fillna(df_test[\"Insurance Duration\"].median())"
   ]
  },
  {
   "cell_type": "code",
   "execution_count": 459,
   "id": "288a835c-34ed-4016-b29b-49932e6e6ef8",
   "metadata": {},
   "outputs": [
    {
     "data": {
      "text/plain": [
       "Age                         0\n",
       "Gender                      0\n",
       "Annual Income               0\n",
       "Marital Status              0\n",
       "Number of Dependents        0\n",
       "Education Level             0\n",
       "Occupation                  0\n",
       "Health Score                0\n",
       "Location                    0\n",
       "Policy Type                 0\n",
       "Previous Claims             0\n",
       "Vehicle Age                 6\n",
       "Credit Score                0\n",
       "Insurance Duration          0\n",
       "Policy Start Date           0\n",
       "Customer Feedback       77824\n",
       "Smoking Status              0\n",
       "Exercise Frequency          0\n",
       "Property Type               0\n",
       "Premium Amount              0\n",
       "dtype: int64"
      ]
     },
     "execution_count": 459,
     "metadata": {},
     "output_type": "execute_result"
    }
   ],
   "source": [
    "df_train.isna().sum()"
   ]
  },
  {
   "cell_type": "code",
   "execution_count": 460,
   "id": "d0a97270-f2c9-42b7-9c48-409b5274e1e0",
   "metadata": {},
   "outputs": [],
   "source": [
    "df_train[\"Policy Start Date\"] = label.fit_transform(df_train[\"Policy Start Date\"])\n",
    "df_test[\"Policy Start Date\"] = label.fit_transform(df_test[\"Policy Start Date\"])"
   ]
  },
  {
   "cell_type": "code",
   "execution_count": 461,
   "id": "d964480a-d802-4226-ac09-2547daeff078",
   "metadata": {},
   "outputs": [
    {
     "name": "stdout",
     "output_type": "stream",
     "text": [
      "<class 'pandas.core.frame.DataFrame'>\n",
      "RangeIndex: 1200000 entries, 0 to 1199999\n",
      "Data columns (total 20 columns):\n",
      " #   Column                Non-Null Count    Dtype  \n",
      "---  ------                --------------    -----  \n",
      " 0   Age                   1200000 non-null  float64\n",
      " 1   Gender                1200000 non-null  int64  \n",
      " 2   Annual Income         1200000 non-null  float64\n",
      " 3   Marital Status        1200000 non-null  int64  \n",
      " 4   Number of Dependents  1200000 non-null  float64\n",
      " 5   Education Level       1200000 non-null  int64  \n",
      " 6   Occupation            1200000 non-null  int64  \n",
      " 7   Health Score          1200000 non-null  float64\n",
      " 8   Location              1200000 non-null  int64  \n",
      " 9   Policy Type           1200000 non-null  int64  \n",
      " 10  Previous Claims       1200000 non-null  float64\n",
      " 11  Vehicle Age           1199994 non-null  float64\n",
      " 12  Credit Score          1200000 non-null  float64\n",
      " 13  Insurance Duration    1200000 non-null  float64\n",
      " 14  Policy Start Date     1200000 non-null  int64  \n",
      " 15  Customer Feedback     1122176 non-null  object \n",
      " 16  Smoking Status        1200000 non-null  object \n",
      " 17  Exercise Frequency    1200000 non-null  object \n",
      " 18  Property Type         1200000 non-null  object \n",
      " 19  Premium Amount        1200000 non-null  float64\n",
      "dtypes: float64(9), int64(7), object(4)\n",
      "memory usage: 183.1+ MB\n"
     ]
    }
   ],
   "source": [
    "df_train.info()"
   ]
  },
  {
   "cell_type": "code",
   "execution_count": 462,
   "id": "84e66b5c-c0e0-4c03-a4da-0ba599532a60",
   "metadata": {},
   "outputs": [],
   "source": [
    "customer_feedback = {}\n",
    "\n",
    "for customer in df_train['Customer Feedback']:\n",
    "    if pd.isna(customer):\n",
    "        customer = 'Unknown'\n",
    "    \n",
    "    if customer not in customer_feedback:\n",
    "        customer_feedback[customer] = 1\n",
    "    else:\n",
    "        customer_feedback[customer] += 1\n",
    "\n",
    "most_frequent_status = max(customer_feedback, key=customer_feedback.get)\n",
    "\n",
    "df_train['Customer Feedback'] = df_train['Customer Feedback'].apply(lambda x: most_frequent_status if pd.isna(x) else x)"
   ]
  },
  {
   "cell_type": "code",
   "execution_count": 463,
   "id": "da38a12f-8dff-4b83-bfff-ef49073dd6fe",
   "metadata": {},
   "outputs": [],
   "source": [
    "customer_feedback = {}\n",
    "\n",
    "for customer in df_test['Customer Feedback']:\n",
    "    if pd.isna(customer):\n",
    "        customer = 'Unknown'\n",
    "    \n",
    "    if customer not in customer_feedback:\n",
    "        customer_feedback[customer] = 1\n",
    "    else:\n",
    "        customer_feedback[customer] += 1\n",
    "\n",
    "most_frequent_status = max(customer_feedback, key=customer_feedback.get)\n",
    "\n",
    "df_test['Customer Feedback'] = df_test['Customer Feedback'].apply(lambda x: most_frequent_status if pd.isna(x) else x)"
   ]
  },
  {
   "cell_type": "code",
   "execution_count": 464,
   "id": "2aa339b7-1c23-4ba3-abed-3cc9abfc050f",
   "metadata": {},
   "outputs": [
    {
     "name": "stdout",
     "output_type": "stream",
     "text": [
      "<class 'pandas.core.frame.DataFrame'>\n",
      "RangeIndex: 1200000 entries, 0 to 1199999\n",
      "Data columns (total 20 columns):\n",
      " #   Column                Non-Null Count    Dtype  \n",
      "---  ------                --------------    -----  \n",
      " 0   Age                   1200000 non-null  float64\n",
      " 1   Gender                1200000 non-null  int64  \n",
      " 2   Annual Income         1200000 non-null  float64\n",
      " 3   Marital Status        1200000 non-null  int64  \n",
      " 4   Number of Dependents  1200000 non-null  float64\n",
      " 5   Education Level       1200000 non-null  int64  \n",
      " 6   Occupation            1200000 non-null  int64  \n",
      " 7   Health Score          1200000 non-null  float64\n",
      " 8   Location              1200000 non-null  int64  \n",
      " 9   Policy Type           1200000 non-null  int64  \n",
      " 10  Previous Claims       1200000 non-null  float64\n",
      " 11  Vehicle Age           1199994 non-null  float64\n",
      " 12  Credit Score          1200000 non-null  float64\n",
      " 13  Insurance Duration    1200000 non-null  float64\n",
      " 14  Policy Start Date     1200000 non-null  int64  \n",
      " 15  Customer Feedback     1200000 non-null  object \n",
      " 16  Smoking Status        1200000 non-null  object \n",
      " 17  Exercise Frequency    1200000 non-null  object \n",
      " 18  Property Type         1200000 non-null  object \n",
      " 19  Premium Amount        1200000 non-null  float64\n",
      "dtypes: float64(9), int64(7), object(4)\n",
      "memory usage: 183.1+ MB\n"
     ]
    }
   ],
   "source": [
    "df_train.info()"
   ]
  },
  {
   "cell_type": "code",
   "execution_count": 465,
   "id": "6708a5d8-b491-4a33-b7e9-1472ab21ec43",
   "metadata": {},
   "outputs": [],
   "source": [
    "df_train[\"Customer Feedback\"] = label.fit_transform(df_train[\"Customer Feedback\"])\n",
    "df_test[\"Customer Feedback\"] = label.transform(df_test[\"Customer Feedback\"])"
   ]
  },
  {
   "cell_type": "code",
   "execution_count": 466,
   "id": "fe6adb36-1c4f-4777-a130-b1d9c3ae031b",
   "metadata": {},
   "outputs": [],
   "source": [
    "df_train[\"Smoking Status\"] = label.fit_transform(df_train[\"Smoking Status\"])\n",
    "df_test[\"Smoking Status\"] = label.transform(df_test[\"Smoking Status\"])"
   ]
  },
  {
   "cell_type": "code",
   "execution_count": 467,
   "id": "732d68a4-b863-4651-af0c-2f40cc4bad43",
   "metadata": {},
   "outputs": [],
   "source": [
    "df_train[\"Exercise Frequency\"] = label.fit_transform(df_train[\"Exercise Frequency\"])\n",
    "df_test[\"Exercise Frequency\"] = label.transform(df_test[\"Exercise Frequency\"])"
   ]
  },
  {
   "cell_type": "code",
   "execution_count": 468,
   "id": "44de2d2c-f882-46c3-858b-2af6cf5786e9",
   "metadata": {},
   "outputs": [],
   "source": [
    "df_train[\"Property Type\"] = label.fit_transform(df_train[\"Property Type\"])\n",
    "df_test[\"Property Type\"] = label.transform(df_test[\"Property Type\"])"
   ]
  },
  {
   "cell_type": "code",
   "execution_count": 469,
   "id": "51cb8afc-6c83-481a-a994-791df680b516",
   "metadata": {},
   "outputs": [
    {
     "name": "stdout",
     "output_type": "stream",
     "text": [
      "<class 'pandas.core.frame.DataFrame'>\n",
      "RangeIndex: 1200000 entries, 0 to 1199999\n",
      "Data columns (total 20 columns):\n",
      " #   Column                Non-Null Count    Dtype  \n",
      "---  ------                --------------    -----  \n",
      " 0   Age                   1200000 non-null  float64\n",
      " 1   Gender                1200000 non-null  int64  \n",
      " 2   Annual Income         1200000 non-null  float64\n",
      " 3   Marital Status        1200000 non-null  int64  \n",
      " 4   Number of Dependents  1200000 non-null  float64\n",
      " 5   Education Level       1200000 non-null  int64  \n",
      " 6   Occupation            1200000 non-null  int64  \n",
      " 7   Health Score          1200000 non-null  float64\n",
      " 8   Location              1200000 non-null  int64  \n",
      " 9   Policy Type           1200000 non-null  int64  \n",
      " 10  Previous Claims       1200000 non-null  float64\n",
      " 11  Vehicle Age           1199994 non-null  float64\n",
      " 12  Credit Score          1200000 non-null  float64\n",
      " 13  Insurance Duration    1200000 non-null  float64\n",
      " 14  Policy Start Date     1200000 non-null  int64  \n",
      " 15  Customer Feedback     1200000 non-null  int64  \n",
      " 16  Smoking Status        1200000 non-null  int64  \n",
      " 17  Exercise Frequency    1200000 non-null  int64  \n",
      " 18  Property Type         1200000 non-null  int64  \n",
      " 19  Premium Amount        1200000 non-null  float64\n",
      "dtypes: float64(9), int64(11)\n",
      "memory usage: 183.1 MB\n"
     ]
    }
   ],
   "source": [
    "df_train.info()"
   ]
  },
  {
   "cell_type": "code",
   "execution_count": 470,
   "id": "b1ee7a26-c7e1-4779-98fa-0c9dce0d86d6",
   "metadata": {},
   "outputs": [
    {
     "data": {
      "text/plain": [
       "Age                     0\n",
       "Gender                  0\n",
       "Annual Income           0\n",
       "Marital Status          0\n",
       "Number of Dependents    0\n",
       "Education Level         0\n",
       "Occupation              0\n",
       "Health Score            0\n",
       "Location                0\n",
       "Policy Type             0\n",
       "Previous Claims         0\n",
       "Vehicle Age             6\n",
       "Credit Score            0\n",
       "Insurance Duration      0\n",
       "Policy Start Date       0\n",
       "Customer Feedback       0\n",
       "Smoking Status          0\n",
       "Exercise Frequency      0\n",
       "Property Type           0\n",
       "Premium Amount          0\n",
       "dtype: int64"
      ]
     },
     "execution_count": 470,
     "metadata": {},
     "output_type": "execute_result"
    }
   ],
   "source": [
    "df_train.isna().sum()"
   ]
  },
  {
   "cell_type": "code",
   "execution_count": 471,
   "id": "5112d7c1-a3be-4532-8525-f2f107691cce",
   "metadata": {},
   "outputs": [
    {
     "data": {
      "text/html": [
       "<div>\n",
       "<style scoped>\n",
       "    .dataframe tbody tr th:only-of-type {\n",
       "        vertical-align: middle;\n",
       "    }\n",
       "\n",
       "    .dataframe tbody tr th {\n",
       "        vertical-align: top;\n",
       "    }\n",
       "\n",
       "    .dataframe thead th {\n",
       "        text-align: right;\n",
       "    }\n",
       "</style>\n",
       "<table border=\"1\" class=\"dataframe\">\n",
       "  <thead>\n",
       "    <tr style=\"text-align: right;\">\n",
       "      <th></th>\n",
       "      <th>Age</th>\n",
       "      <th>Gender</th>\n",
       "      <th>Annual Income</th>\n",
       "      <th>Marital Status</th>\n",
       "      <th>Number of Dependents</th>\n",
       "      <th>Education Level</th>\n",
       "      <th>Occupation</th>\n",
       "      <th>Health Score</th>\n",
       "      <th>Location</th>\n",
       "      <th>Policy Type</th>\n",
       "      <th>Previous Claims</th>\n",
       "      <th>Vehicle Age</th>\n",
       "      <th>Credit Score</th>\n",
       "      <th>Insurance Duration</th>\n",
       "      <th>Policy Start Date</th>\n",
       "      <th>Customer Feedback</th>\n",
       "      <th>Smoking Status</th>\n",
       "      <th>Exercise Frequency</th>\n",
       "      <th>Property Type</th>\n",
       "      <th>Premium Amount</th>\n",
       "    </tr>\n",
       "  </thead>\n",
       "  <tbody>\n",
       "    <tr>\n",
       "      <th>0</th>\n",
       "      <td>19.0</td>\n",
       "      <td>0</td>\n",
       "      <td>10049.0</td>\n",
       "      <td>1</td>\n",
       "      <td>1.0</td>\n",
       "      <td>0</td>\n",
       "      <td>1</td>\n",
       "      <td>22.598761</td>\n",
       "      <td>2</td>\n",
       "      <td>2</td>\n",
       "      <td>2.0</td>\n",
       "      <td>17.0</td>\n",
       "      <td>372.0</td>\n",
       "      <td>5.0</td>\n",
       "      <td>145522</td>\n",
       "      <td>2</td>\n",
       "      <td>0</td>\n",
       "      <td>3</td>\n",
       "      <td>2</td>\n",
       "      <td>2869.0</td>\n",
       "    </tr>\n",
       "    <tr>\n",
       "      <th>1</th>\n",
       "      <td>39.0</td>\n",
       "      <td>0</td>\n",
       "      <td>31678.0</td>\n",
       "      <td>0</td>\n",
       "      <td>3.0</td>\n",
       "      <td>2</td>\n",
       "      <td>3</td>\n",
       "      <td>15.569731</td>\n",
       "      <td>0</td>\n",
       "      <td>1</td>\n",
       "      <td>1.0</td>\n",
       "      <td>12.0</td>\n",
       "      <td>694.0</td>\n",
       "      <td>2.0</td>\n",
       "      <td>127832</td>\n",
       "      <td>0</td>\n",
       "      <td>1</td>\n",
       "      <td>1</td>\n",
       "      <td>2</td>\n",
       "      <td>1483.0</td>\n",
       "    </tr>\n",
       "    <tr>\n",
       "      <th>2</th>\n",
       "      <td>23.0</td>\n",
       "      <td>1</td>\n",
       "      <td>25602.0</td>\n",
       "      <td>0</td>\n",
       "      <td>3.0</td>\n",
       "      <td>1</td>\n",
       "      <td>1</td>\n",
       "      <td>47.177549</td>\n",
       "      <td>1</td>\n",
       "      <td>2</td>\n",
       "      <td>1.0</td>\n",
       "      <td>14.0</td>\n",
       "      <td>595.0</td>\n",
       "      <td>3.0</td>\n",
       "      <td>137880</td>\n",
       "      <td>1</td>\n",
       "      <td>1</td>\n",
       "      <td>3</td>\n",
       "      <td>2</td>\n",
       "      <td>567.0</td>\n",
       "    </tr>\n",
       "    <tr>\n",
       "      <th>3</th>\n",
       "      <td>21.0</td>\n",
       "      <td>1</td>\n",
       "      <td>141855.0</td>\n",
       "      <td>1</td>\n",
       "      <td>2.0</td>\n",
       "      <td>0</td>\n",
       "      <td>3</td>\n",
       "      <td>10.938144</td>\n",
       "      <td>0</td>\n",
       "      <td>0</td>\n",
       "      <td>1.0</td>\n",
       "      <td>0.0</td>\n",
       "      <td>367.0</td>\n",
       "      <td>1.0</td>\n",
       "      <td>161517</td>\n",
       "      <td>2</td>\n",
       "      <td>1</td>\n",
       "      <td>0</td>\n",
       "      <td>0</td>\n",
       "      <td>765.0</td>\n",
       "    </tr>\n",
       "    <tr>\n",
       "      <th>4</th>\n",
       "      <td>21.0</td>\n",
       "      <td>1</td>\n",
       "      <td>39651.0</td>\n",
       "      <td>2</td>\n",
       "      <td>1.0</td>\n",
       "      <td>0</td>\n",
       "      <td>1</td>\n",
       "      <td>20.376094</td>\n",
       "      <td>0</td>\n",
       "      <td>2</td>\n",
       "      <td>0.0</td>\n",
       "      <td>8.0</td>\n",
       "      <td>598.0</td>\n",
       "      <td>4.0</td>\n",
       "      <td>76621</td>\n",
       "      <td>2</td>\n",
       "      <td>1</td>\n",
       "      <td>3</td>\n",
       "      <td>2</td>\n",
       "      <td>2022.0</td>\n",
       "    </tr>\n",
       "  </tbody>\n",
       "</table>\n",
       "</div>"
      ],
      "text/plain": [
       "    Age  Gender  Annual Income  Marital Status  Number of Dependents  \\\n",
       "0  19.0       0        10049.0               1                   1.0   \n",
       "1  39.0       0        31678.0               0                   3.0   \n",
       "2  23.0       1        25602.0               0                   3.0   \n",
       "3  21.0       1       141855.0               1                   2.0   \n",
       "4  21.0       1        39651.0               2                   1.0   \n",
       "\n",
       "   Education Level  Occupation  Health Score  Location  Policy Type  \\\n",
       "0                0           1     22.598761         2            2   \n",
       "1                2           3     15.569731         0            1   \n",
       "2                1           1     47.177549         1            2   \n",
       "3                0           3     10.938144         0            0   \n",
       "4                0           1     20.376094         0            2   \n",
       "\n",
       "   Previous Claims  Vehicle Age  Credit Score  Insurance Duration  \\\n",
       "0              2.0         17.0         372.0                 5.0   \n",
       "1              1.0         12.0         694.0                 2.0   \n",
       "2              1.0         14.0         595.0                 3.0   \n",
       "3              1.0          0.0         367.0                 1.0   \n",
       "4              0.0          8.0         598.0                 4.0   \n",
       "\n",
       "   Policy Start Date  Customer Feedback  Smoking Status  Exercise Frequency  \\\n",
       "0             145522                  2               0                   3   \n",
       "1             127832                  0               1                   1   \n",
       "2             137880                  1               1                   3   \n",
       "3             161517                  2               1                   0   \n",
       "4              76621                  2               1                   3   \n",
       "\n",
       "   Property Type  Premium Amount  \n",
       "0              2          2869.0  \n",
       "1              2          1483.0  \n",
       "2              2           567.0  \n",
       "3              0           765.0  \n",
       "4              2          2022.0  "
      ]
     },
     "execution_count": 471,
     "metadata": {},
     "output_type": "execute_result"
    }
   ],
   "source": [
    "df_train.head()"
   ]
  },
  {
   "cell_type": "code",
   "execution_count": 472,
   "id": "2aef8826-43ca-4223-a3e9-699c92ac0775",
   "metadata": {},
   "outputs": [],
   "source": [
    "df_train[\"Vehicle Age\"] = df_train[\"Vehicle Age\"].fillna(df_train[\"Vehicle Age\"].median())\n",
    "df_test[\"Vehicle Age\"] = df_test[\"Vehicle Age\"].fillna(df_test[\"Vehicle Age\"].median())"
   ]
  },
  {
   "cell_type": "code",
   "execution_count": 473,
   "id": "8b523811-cbf2-47fc-b461-99ad686b0a47",
   "metadata": {},
   "outputs": [],
   "source": [
    "X_train = df_train.drop(\"Premium Amount\", axis=1)\n",
    "y_train = df_train[\"Premium Amount\"]\n",
    "X_test = df_test.copy()"
   ]
  },
  {
   "cell_type": "code",
   "execution_count": 474,
   "id": "020280fa-d3e0-41a7-931c-b452bf922282",
   "metadata": {},
   "outputs": [],
   "source": [
    "from sklearn.linear_model import LinearRegression"
   ]
  },
  {
   "cell_type": "code",
   "execution_count": 475,
   "id": "315a41a4-cd1d-41ee-a0e2-16d0cc5f8752",
   "metadata": {},
   "outputs": [],
   "source": [
    "model = LinearRegression()"
   ]
  },
  {
   "cell_type": "code",
   "execution_count": 476,
   "id": "58b35e39-6a09-4a84-b670-a3a050894479",
   "metadata": {},
   "outputs": [
    {
     "data": {
      "text/plain": [
       "Age                     0\n",
       "Gender                  0\n",
       "Annual Income           0\n",
       "Marital Status          0\n",
       "Number of Dependents    0\n",
       "Education Level         0\n",
       "Occupation              0\n",
       "Health Score            0\n",
       "Location                0\n",
       "Policy Type             0\n",
       "Previous Claims         0\n",
       "Vehicle Age             0\n",
       "Credit Score            0\n",
       "Insurance Duration      0\n",
       "Policy Start Date       0\n",
       "Customer Feedback       0\n",
       "Smoking Status          0\n",
       "Exercise Frequency      0\n",
       "Property Type           0\n",
       "Premium Amount          0\n",
       "dtype: int64"
      ]
     },
     "execution_count": 476,
     "metadata": {},
     "output_type": "execute_result"
    }
   ],
   "source": [
    "df_train.isna().sum()"
   ]
  },
  {
   "cell_type": "code",
   "execution_count": 477,
   "id": "c23c96d1-4d48-40fd-b150-30e6613fae74",
   "metadata": {},
   "outputs": [
    {
     "data": {
      "text/html": [
       "<style>#sk-container-id-5 {\n",
       "  /* Definition of color scheme common for light and dark mode */\n",
       "  --sklearn-color-text: #000;\n",
       "  --sklearn-color-text-muted: #666;\n",
       "  --sklearn-color-line: gray;\n",
       "  /* Definition of color scheme for unfitted estimators */\n",
       "  --sklearn-color-unfitted-level-0: #fff5e6;\n",
       "  --sklearn-color-unfitted-level-1: #f6e4d2;\n",
       "  --sklearn-color-unfitted-level-2: #ffe0b3;\n",
       "  --sklearn-color-unfitted-level-3: chocolate;\n",
       "  /* Definition of color scheme for fitted estimators */\n",
       "  --sklearn-color-fitted-level-0: #f0f8ff;\n",
       "  --sklearn-color-fitted-level-1: #d4ebff;\n",
       "  --sklearn-color-fitted-level-2: #b3dbfd;\n",
       "  --sklearn-color-fitted-level-3: cornflowerblue;\n",
       "\n",
       "  /* Specific color for light theme */\n",
       "  --sklearn-color-text-on-default-background: var(--sg-text-color, var(--theme-code-foreground, var(--jp-content-font-color1, black)));\n",
       "  --sklearn-color-background: var(--sg-background-color, var(--theme-background, var(--jp-layout-color0, white)));\n",
       "  --sklearn-color-border-box: var(--sg-text-color, var(--theme-code-foreground, var(--jp-content-font-color1, black)));\n",
       "  --sklearn-color-icon: #696969;\n",
       "\n",
       "  @media (prefers-color-scheme: dark) {\n",
       "    /* Redefinition of color scheme for dark theme */\n",
       "    --sklearn-color-text-on-default-background: var(--sg-text-color, var(--theme-code-foreground, var(--jp-content-font-color1, white)));\n",
       "    --sklearn-color-background: var(--sg-background-color, var(--theme-background, var(--jp-layout-color0, #111)));\n",
       "    --sklearn-color-border-box: var(--sg-text-color, var(--theme-code-foreground, var(--jp-content-font-color1, white)));\n",
       "    --sklearn-color-icon: #878787;\n",
       "  }\n",
       "}\n",
       "\n",
       "#sk-container-id-5 {\n",
       "  color: var(--sklearn-color-text);\n",
       "}\n",
       "\n",
       "#sk-container-id-5 pre {\n",
       "  padding: 0;\n",
       "}\n",
       "\n",
       "#sk-container-id-5 input.sk-hidden--visually {\n",
       "  border: 0;\n",
       "  clip: rect(1px 1px 1px 1px);\n",
       "  clip: rect(1px, 1px, 1px, 1px);\n",
       "  height: 1px;\n",
       "  margin: -1px;\n",
       "  overflow: hidden;\n",
       "  padding: 0;\n",
       "  position: absolute;\n",
       "  width: 1px;\n",
       "}\n",
       "\n",
       "#sk-container-id-5 div.sk-dashed-wrapped {\n",
       "  border: 1px dashed var(--sklearn-color-line);\n",
       "  margin: 0 0.4em 0.5em 0.4em;\n",
       "  box-sizing: border-box;\n",
       "  padding-bottom: 0.4em;\n",
       "  background-color: var(--sklearn-color-background);\n",
       "}\n",
       "\n",
       "#sk-container-id-5 div.sk-container {\n",
       "  /* jupyter's `normalize.less` sets `[hidden] { display: none; }`\n",
       "     but bootstrap.min.css set `[hidden] { display: none !important; }`\n",
       "     so we also need the `!important` here to be able to override the\n",
       "     default hidden behavior on the sphinx rendered scikit-learn.org.\n",
       "     See: https://github.com/scikit-learn/scikit-learn/issues/21755 */\n",
       "  display: inline-block !important;\n",
       "  position: relative;\n",
       "}\n",
       "\n",
       "#sk-container-id-5 div.sk-text-repr-fallback {\n",
       "  display: none;\n",
       "}\n",
       "\n",
       "div.sk-parallel-item,\n",
       "div.sk-serial,\n",
       "div.sk-item {\n",
       "  /* draw centered vertical line to link estimators */\n",
       "  background-image: linear-gradient(var(--sklearn-color-text-on-default-background), var(--sklearn-color-text-on-default-background));\n",
       "  background-size: 2px 100%;\n",
       "  background-repeat: no-repeat;\n",
       "  background-position: center center;\n",
       "}\n",
       "\n",
       "/* Parallel-specific style estimator block */\n",
       "\n",
       "#sk-container-id-5 div.sk-parallel-item::after {\n",
       "  content: \"\";\n",
       "  width: 100%;\n",
       "  border-bottom: 2px solid var(--sklearn-color-text-on-default-background);\n",
       "  flex-grow: 1;\n",
       "}\n",
       "\n",
       "#sk-container-id-5 div.sk-parallel {\n",
       "  display: flex;\n",
       "  align-items: stretch;\n",
       "  justify-content: center;\n",
       "  background-color: var(--sklearn-color-background);\n",
       "  position: relative;\n",
       "}\n",
       "\n",
       "#sk-container-id-5 div.sk-parallel-item {\n",
       "  display: flex;\n",
       "  flex-direction: column;\n",
       "}\n",
       "\n",
       "#sk-container-id-5 div.sk-parallel-item:first-child::after {\n",
       "  align-self: flex-end;\n",
       "  width: 50%;\n",
       "}\n",
       "\n",
       "#sk-container-id-5 div.sk-parallel-item:last-child::after {\n",
       "  align-self: flex-start;\n",
       "  width: 50%;\n",
       "}\n",
       "\n",
       "#sk-container-id-5 div.sk-parallel-item:only-child::after {\n",
       "  width: 0;\n",
       "}\n",
       "\n",
       "/* Serial-specific style estimator block */\n",
       "\n",
       "#sk-container-id-5 div.sk-serial {\n",
       "  display: flex;\n",
       "  flex-direction: column;\n",
       "  align-items: center;\n",
       "  background-color: var(--sklearn-color-background);\n",
       "  padding-right: 1em;\n",
       "  padding-left: 1em;\n",
       "}\n",
       "\n",
       "\n",
       "/* Toggleable style: style used for estimator/Pipeline/ColumnTransformer box that is\n",
       "clickable and can be expanded/collapsed.\n",
       "- Pipeline and ColumnTransformer use this feature and define the default style\n",
       "- Estimators will overwrite some part of the style using the `sk-estimator` class\n",
       "*/\n",
       "\n",
       "/* Pipeline and ColumnTransformer style (default) */\n",
       "\n",
       "#sk-container-id-5 div.sk-toggleable {\n",
       "  /* Default theme specific background. It is overwritten whether we have a\n",
       "  specific estimator or a Pipeline/ColumnTransformer */\n",
       "  background-color: var(--sklearn-color-background);\n",
       "}\n",
       "\n",
       "/* Toggleable label */\n",
       "#sk-container-id-5 label.sk-toggleable__label {\n",
       "  cursor: pointer;\n",
       "  display: flex;\n",
       "  width: 100%;\n",
       "  margin-bottom: 0;\n",
       "  padding: 0.5em;\n",
       "  box-sizing: border-box;\n",
       "  text-align: center;\n",
       "  align-items: start;\n",
       "  justify-content: space-between;\n",
       "  gap: 0.5em;\n",
       "}\n",
       "\n",
       "#sk-container-id-5 label.sk-toggleable__label .caption {\n",
       "  font-size: 0.6rem;\n",
       "  font-weight: lighter;\n",
       "  color: var(--sklearn-color-text-muted);\n",
       "}\n",
       "\n",
       "#sk-container-id-5 label.sk-toggleable__label-arrow:before {\n",
       "  /* Arrow on the left of the label */\n",
       "  content: \"▸\";\n",
       "  float: left;\n",
       "  margin-right: 0.25em;\n",
       "  color: var(--sklearn-color-icon);\n",
       "}\n",
       "\n",
       "#sk-container-id-5 label.sk-toggleable__label-arrow:hover:before {\n",
       "  color: var(--sklearn-color-text);\n",
       "}\n",
       "\n",
       "/* Toggleable content - dropdown */\n",
       "\n",
       "#sk-container-id-5 div.sk-toggleable__content {\n",
       "  max-height: 0;\n",
       "  max-width: 0;\n",
       "  overflow: hidden;\n",
       "  text-align: left;\n",
       "  /* unfitted */\n",
       "  background-color: var(--sklearn-color-unfitted-level-0);\n",
       "}\n",
       "\n",
       "#sk-container-id-5 div.sk-toggleable__content.fitted {\n",
       "  /* fitted */\n",
       "  background-color: var(--sklearn-color-fitted-level-0);\n",
       "}\n",
       "\n",
       "#sk-container-id-5 div.sk-toggleable__content pre {\n",
       "  margin: 0.2em;\n",
       "  border-radius: 0.25em;\n",
       "  color: var(--sklearn-color-text);\n",
       "  /* unfitted */\n",
       "  background-color: var(--sklearn-color-unfitted-level-0);\n",
       "}\n",
       "\n",
       "#sk-container-id-5 div.sk-toggleable__content.fitted pre {\n",
       "  /* unfitted */\n",
       "  background-color: var(--sklearn-color-fitted-level-0);\n",
       "}\n",
       "\n",
       "#sk-container-id-5 input.sk-toggleable__control:checked~div.sk-toggleable__content {\n",
       "  /* Expand drop-down */\n",
       "  max-height: 200px;\n",
       "  max-width: 100%;\n",
       "  overflow: auto;\n",
       "}\n",
       "\n",
       "#sk-container-id-5 input.sk-toggleable__control:checked~label.sk-toggleable__label-arrow:before {\n",
       "  content: \"▾\";\n",
       "}\n",
       "\n",
       "/* Pipeline/ColumnTransformer-specific style */\n",
       "\n",
       "#sk-container-id-5 div.sk-label input.sk-toggleable__control:checked~label.sk-toggleable__label {\n",
       "  color: var(--sklearn-color-text);\n",
       "  background-color: var(--sklearn-color-unfitted-level-2);\n",
       "}\n",
       "\n",
       "#sk-container-id-5 div.sk-label.fitted input.sk-toggleable__control:checked~label.sk-toggleable__label {\n",
       "  background-color: var(--sklearn-color-fitted-level-2);\n",
       "}\n",
       "\n",
       "/* Estimator-specific style */\n",
       "\n",
       "/* Colorize estimator box */\n",
       "#sk-container-id-5 div.sk-estimator input.sk-toggleable__control:checked~label.sk-toggleable__label {\n",
       "  /* unfitted */\n",
       "  background-color: var(--sklearn-color-unfitted-level-2);\n",
       "}\n",
       "\n",
       "#sk-container-id-5 div.sk-estimator.fitted input.sk-toggleable__control:checked~label.sk-toggleable__label {\n",
       "  /* fitted */\n",
       "  background-color: var(--sklearn-color-fitted-level-2);\n",
       "}\n",
       "\n",
       "#sk-container-id-5 div.sk-label label.sk-toggleable__label,\n",
       "#sk-container-id-5 div.sk-label label {\n",
       "  /* The background is the default theme color */\n",
       "  color: var(--sklearn-color-text-on-default-background);\n",
       "}\n",
       "\n",
       "/* On hover, darken the color of the background */\n",
       "#sk-container-id-5 div.sk-label:hover label.sk-toggleable__label {\n",
       "  color: var(--sklearn-color-text);\n",
       "  background-color: var(--sklearn-color-unfitted-level-2);\n",
       "}\n",
       "\n",
       "/* Label box, darken color on hover, fitted */\n",
       "#sk-container-id-5 div.sk-label.fitted:hover label.sk-toggleable__label.fitted {\n",
       "  color: var(--sklearn-color-text);\n",
       "  background-color: var(--sklearn-color-fitted-level-2);\n",
       "}\n",
       "\n",
       "/* Estimator label */\n",
       "\n",
       "#sk-container-id-5 div.sk-label label {\n",
       "  font-family: monospace;\n",
       "  font-weight: bold;\n",
       "  display: inline-block;\n",
       "  line-height: 1.2em;\n",
       "}\n",
       "\n",
       "#sk-container-id-5 div.sk-label-container {\n",
       "  text-align: center;\n",
       "}\n",
       "\n",
       "/* Estimator-specific */\n",
       "#sk-container-id-5 div.sk-estimator {\n",
       "  font-family: monospace;\n",
       "  border: 1px dotted var(--sklearn-color-border-box);\n",
       "  border-radius: 0.25em;\n",
       "  box-sizing: border-box;\n",
       "  margin-bottom: 0.5em;\n",
       "  /* unfitted */\n",
       "  background-color: var(--sklearn-color-unfitted-level-0);\n",
       "}\n",
       "\n",
       "#sk-container-id-5 div.sk-estimator.fitted {\n",
       "  /* fitted */\n",
       "  background-color: var(--sklearn-color-fitted-level-0);\n",
       "}\n",
       "\n",
       "/* on hover */\n",
       "#sk-container-id-5 div.sk-estimator:hover {\n",
       "  /* unfitted */\n",
       "  background-color: var(--sklearn-color-unfitted-level-2);\n",
       "}\n",
       "\n",
       "#sk-container-id-5 div.sk-estimator.fitted:hover {\n",
       "  /* fitted */\n",
       "  background-color: var(--sklearn-color-fitted-level-2);\n",
       "}\n",
       "\n",
       "/* Specification for estimator info (e.g. \"i\" and \"?\") */\n",
       "\n",
       "/* Common style for \"i\" and \"?\" */\n",
       "\n",
       ".sk-estimator-doc-link,\n",
       "a:link.sk-estimator-doc-link,\n",
       "a:visited.sk-estimator-doc-link {\n",
       "  float: right;\n",
       "  font-size: smaller;\n",
       "  line-height: 1em;\n",
       "  font-family: monospace;\n",
       "  background-color: var(--sklearn-color-background);\n",
       "  border-radius: 1em;\n",
       "  height: 1em;\n",
       "  width: 1em;\n",
       "  text-decoration: none !important;\n",
       "  margin-left: 0.5em;\n",
       "  text-align: center;\n",
       "  /* unfitted */\n",
       "  border: var(--sklearn-color-unfitted-level-1) 1pt solid;\n",
       "  color: var(--sklearn-color-unfitted-level-1);\n",
       "}\n",
       "\n",
       ".sk-estimator-doc-link.fitted,\n",
       "a:link.sk-estimator-doc-link.fitted,\n",
       "a:visited.sk-estimator-doc-link.fitted {\n",
       "  /* fitted */\n",
       "  border: var(--sklearn-color-fitted-level-1) 1pt solid;\n",
       "  color: var(--sklearn-color-fitted-level-1);\n",
       "}\n",
       "\n",
       "/* On hover */\n",
       "div.sk-estimator:hover .sk-estimator-doc-link:hover,\n",
       ".sk-estimator-doc-link:hover,\n",
       "div.sk-label-container:hover .sk-estimator-doc-link:hover,\n",
       ".sk-estimator-doc-link:hover {\n",
       "  /* unfitted */\n",
       "  background-color: var(--sklearn-color-unfitted-level-3);\n",
       "  color: var(--sklearn-color-background);\n",
       "  text-decoration: none;\n",
       "}\n",
       "\n",
       "div.sk-estimator.fitted:hover .sk-estimator-doc-link.fitted:hover,\n",
       ".sk-estimator-doc-link.fitted:hover,\n",
       "div.sk-label-container:hover .sk-estimator-doc-link.fitted:hover,\n",
       ".sk-estimator-doc-link.fitted:hover {\n",
       "  /* fitted */\n",
       "  background-color: var(--sklearn-color-fitted-level-3);\n",
       "  color: var(--sklearn-color-background);\n",
       "  text-decoration: none;\n",
       "}\n",
       "\n",
       "/* Span, style for the box shown on hovering the info icon */\n",
       ".sk-estimator-doc-link span {\n",
       "  display: none;\n",
       "  z-index: 9999;\n",
       "  position: relative;\n",
       "  font-weight: normal;\n",
       "  right: .2ex;\n",
       "  padding: .5ex;\n",
       "  margin: .5ex;\n",
       "  width: min-content;\n",
       "  min-width: 20ex;\n",
       "  max-width: 50ex;\n",
       "  color: var(--sklearn-color-text);\n",
       "  box-shadow: 2pt 2pt 4pt #999;\n",
       "  /* unfitted */\n",
       "  background: var(--sklearn-color-unfitted-level-0);\n",
       "  border: .5pt solid var(--sklearn-color-unfitted-level-3);\n",
       "}\n",
       "\n",
       ".sk-estimator-doc-link.fitted span {\n",
       "  /* fitted */\n",
       "  background: var(--sklearn-color-fitted-level-0);\n",
       "  border: var(--sklearn-color-fitted-level-3);\n",
       "}\n",
       "\n",
       ".sk-estimator-doc-link:hover span {\n",
       "  display: block;\n",
       "}\n",
       "\n",
       "/* \"?\"-specific style due to the `<a>` HTML tag */\n",
       "\n",
       "#sk-container-id-5 a.estimator_doc_link {\n",
       "  float: right;\n",
       "  font-size: 1rem;\n",
       "  line-height: 1em;\n",
       "  font-family: monospace;\n",
       "  background-color: var(--sklearn-color-background);\n",
       "  border-radius: 1rem;\n",
       "  height: 1rem;\n",
       "  width: 1rem;\n",
       "  text-decoration: none;\n",
       "  /* unfitted */\n",
       "  color: var(--sklearn-color-unfitted-level-1);\n",
       "  border: var(--sklearn-color-unfitted-level-1) 1pt solid;\n",
       "}\n",
       "\n",
       "#sk-container-id-5 a.estimator_doc_link.fitted {\n",
       "  /* fitted */\n",
       "  border: var(--sklearn-color-fitted-level-1) 1pt solid;\n",
       "  color: var(--sklearn-color-fitted-level-1);\n",
       "}\n",
       "\n",
       "/* On hover */\n",
       "#sk-container-id-5 a.estimator_doc_link:hover {\n",
       "  /* unfitted */\n",
       "  background-color: var(--sklearn-color-unfitted-level-3);\n",
       "  color: var(--sklearn-color-background);\n",
       "  text-decoration: none;\n",
       "}\n",
       "\n",
       "#sk-container-id-5 a.estimator_doc_link.fitted:hover {\n",
       "  /* fitted */\n",
       "  background-color: var(--sklearn-color-fitted-level-3);\n",
       "}\n",
       "</style><div id=\"sk-container-id-5\" class=\"sk-top-container\"><div class=\"sk-text-repr-fallback\"><pre>LinearRegression()</pre><b>In a Jupyter environment, please rerun this cell to show the HTML representation or trust the notebook. <br />On GitHub, the HTML representation is unable to render, please try loading this page with nbviewer.org.</b></div><div class=\"sk-container\" hidden><div class=\"sk-item\"><div class=\"sk-estimator fitted sk-toggleable\"><input class=\"sk-toggleable__control sk-hidden--visually\" id=\"sk-estimator-id-5\" type=\"checkbox\" checked><label for=\"sk-estimator-id-5\" class=\"sk-toggleable__label fitted sk-toggleable__label-arrow\"><div><div>LinearRegression</div></div><div><a class=\"sk-estimator-doc-link fitted\" rel=\"noreferrer\" target=\"_blank\" href=\"https://scikit-learn.org/1.6/modules/generated/sklearn.linear_model.LinearRegression.html\">?<span>Documentation for LinearRegression</span></a><span class=\"sk-estimator-doc-link fitted\">i<span>Fitted</span></span></div></label><div class=\"sk-toggleable__content fitted\"><pre>LinearRegression()</pre></div> </div></div></div></div>"
      ],
      "text/plain": [
       "LinearRegression()"
      ]
     },
     "execution_count": 477,
     "metadata": {},
     "output_type": "execute_result"
    }
   ],
   "source": [
    "model.fit(X_train, y_train)"
   ]
  },
  {
   "cell_type": "code",
   "execution_count": 478,
   "id": "8c8a6612-6a27-4d13-b5bf-601768c60f9e",
   "metadata": {},
   "outputs": [],
   "source": [
    "y_pred = model.predict(X_test)"
   ]
  },
  {
   "cell_type": "code",
   "execution_count": 479,
   "id": "cb9e972b-79f1-49b0-a274-36ea4c5ab83d",
   "metadata": {},
   "outputs": [],
   "source": [
    "submit = pd.read_csv(\"sample_submission.csv\")"
   ]
  },
  {
   "cell_type": "code",
   "execution_count": 480,
   "id": "4f609056-c311-4ec4-82ec-868fceb00216",
   "metadata": {},
   "outputs": [],
   "source": [
    "submit[\"Premium Amount\"] = y_pred"
   ]
  },
  {
   "cell_type": "code",
   "execution_count": 481,
   "id": "2a98811f-eac0-4c33-8b33-f7a05c7f642a",
   "metadata": {},
   "outputs": [],
   "source": [
    "submit.to_csv(\"finall_sub.csv\",index = False, index_label = False)"
   ]
  }
 ],
 "metadata": {
  "kernelspec": {
   "display_name": "Python 3 (ipykernel)",
   "language": "python",
   "name": "python3"
  },
  "language_info": {
   "codemirror_mode": {
    "name": "ipython",
    "version": 3
   },
   "file_extension": ".py",
   "mimetype": "text/x-python",
   "name": "python",
   "nbconvert_exporter": "python",
   "pygments_lexer": "ipython3",
   "version": "3.12.6"
  }
 },
 "nbformat": 4,
 "nbformat_minor": 5
}
